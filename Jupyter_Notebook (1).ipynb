{
  "metadata": {
    "kernelspec": {
      "name": "python",
      "display_name": "Pyolite",
      "language": "python"
    },
    "language_info": {
      "codemirror_mode": {
        "name": "python",
        "version": 3
      },
      "file_extension": ".py",
      "mimetype": "text/x-python",
      "name": "python",
      "nbconvert_exporter": "python",
      "pygments_lexer": "ipython3",
      "version": "3.8"
    }
  },
  "nbformat_minor": 4,
  "nbformat": 4,
  "cells": [
    {
      "cell_type": "markdown",
      "source": "<center>\n    <img src=\"https://s3-api.us-geo.objectstorage.softlayer.net/cf-courses-data/CognitiveClass/Logos/organization_logo/organization_logo.png\" width=\"300\" alt=\"cognitiveclass.ai logo\"  />\n</center>\n",
      "metadata": {}
    },
    {
      "cell_type": "markdown",
      "source": "#### Add your code below following the instructions given in the course\n",
      "metadata": {}
    },
    {
      "cell_type": "markdown",
      "source": "# My Jupyter Notebook on IBM Watson Studio",
      "metadata": {}
    },
    {
      "cell_type": "markdown",
      "source": "**Martin Morales**\nI am a technological consultant",
      "metadata": {}
    },
    {
      "cell_type": "markdown",
      "source": "I am interested in data science mainly as a hobby",
      "metadata": {}
    },
    {
      "cell_type": "markdown",
      "source": "### The next cell will display the result of the operation 22+22",
      "metadata": {}
    },
    {
      "cell_type": "code",
      "source": "22+22",
      "metadata": {
        "trusted": true
      },
      "execution_count": 2,
      "outputs": [
        {
          "execution_count": 2,
          "output_type": "execute_result",
          "data": {
            "text/plain": "44"
          },
          "metadata": {}
        }
      ]
    },
    {
      "cell_type": "markdown",
      "source": "1. These are bullet points\n- BP1\n- BP2\n- BP3\n2. This is a table\n| M | A | R |\n| --- | --- | --- |\n| T | I | N |\n3. This is an hyperlink\n[my football team](https://www.realmadrid.com/)",
      "metadata": {
        "tags": []
      }
    }
  ]
}